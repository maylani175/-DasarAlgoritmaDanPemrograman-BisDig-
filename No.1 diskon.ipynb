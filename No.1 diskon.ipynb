{
  "nbformat": 4,
  "nbformat_minor": 0,
  "metadata": {
    "colab": {
      "provenance": []
    },
    "kernelspec": {
      "name": "python3",
      "display_name": "Python 3"
    },
    "language_info": {
      "name": "python"
    }
  },
  "cells": [
    {
      "cell_type": "markdown",
      "source": [
        "Program python menghitung total bayar setelah diskon jika syarat terpenuhi.\n"
      ],
      "metadata": {
        "id": "tnuk4hxY7ADg"
      }
    },
    {
      "cell_type": "code",
      "source": [
        "total_belanja = float(input(\"Masukkan total belanja: \"))\n",
        "\n",
        "if total_belanja > 500000:\n",
        "    diskon = 0.1 * total_belanja\n",
        "    total_bayar = total_belanja - diskon\n",
        "    print(f\"Anda mendapatkan diskon 10%! Total pembayaran: {total_bayar}\")\n",
        "else:\n",
        "    total_bayar = total_belanja\n",
        "    print(f\"Total pembayaran: {total_bayar}\")"
      ],
      "metadata": {
        "colab": {
          "base_uri": "https://localhost:8080/"
        },
        "id": "854nHegdC-ge",
        "outputId": "b6f070b8-02ae-4d3a-92b8-dab8586acf09"
      },
      "execution_count": 3,
      "outputs": [
        {
          "output_type": "stream",
          "name": "stdout",
          "text": [
            "Masukkan total belanja: 9000000\n",
            "Anda mendapatkan diskon 10%! Total pembayaran: 8100000.0\n"
          ]
        }
      ]
    }
  ]
}